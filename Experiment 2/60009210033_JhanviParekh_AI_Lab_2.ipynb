{
  "nbformat": 4,
  "nbformat_minor": 0,
  "metadata": {
    "colab": {
      "provenance": []
    },
    "kernelspec": {
      "name": "python3",
      "display_name": "Python 3"
    },
    "language_info": {
      "name": "python"
    }
  },
  "cells": [
    {
      "cell_type": "code",
      "source": [
        "class Graph:\n",
        "    def __init__(self):\n",
        "        self.graph = {}\n",
        "\n",
        "    def add_edge(self, u, v):\n",
        "        if u not in self.graph:\n",
        "            self.graph[u] = []\n",
        "        self.graph[u].append(v)\n",
        "\n",
        "    def move_generation(self, node):\n",
        "        if node in self.graph:\n",
        "            return self.graph[node]\n",
        "        else:\n",
        "            return []\n",
        "\n",
        "    def goal_test(self, node, goal):\n",
        "        return node == goal\n",
        "\n",
        "    def find_path(self, start, goal):\n",
        "        visited = set()\n",
        "        stack = [[start]]\n",
        "\n",
        "        while stack:\n",
        "            path = stack.pop()\n",
        "            node = path[-1]\n",
        "\n",
        "            if node == goal:\n",
        "                return path\n",
        "\n",
        "            if node not in visited:\n",
        "                visited.add(node)\n",
        "                neighbors = self.move_generation(node)\n",
        "                for neighbor in neighbors:\n",
        "                    new_path = list(path)\n",
        "                    new_path.append(neighbor)\n",
        "                    stack.append(new_path)\n",
        "\n",
        "        return None\n",
        "\n",
        "    def make_pair(self, node1, node2):\n",
        "        return (node1, node2)\n",
        "\n",
        "    def remove_seen(self, nodes, seen):\n",
        "        return [node for node in nodes if node not in seen]\n",
        "\n",
        "\n",
        "graph = Graph()\n",
        "graph.add_edge('A', 'B')\n",
        "graph.add_edge('A','C')\n",
        "graph.add_edge('B','D')\n",
        "graph.add_edge('B', 'E')\n",
        "graph.add_edge('C', 'F')\n",
        "graph.add_edge('C', 'G')\n",
        "graph.add_edge('E','')\n",
        "graph.add_edge('D','')\n",
        "graph.add_edge('F', 'H')\n",
        "graph.add_edge('G', '')\n",
        "graph.add_edge('H','')\n",
        "\n",
        "start_node = 'A'\n",
        "goal_node = 'H'\n",
        "\n",
        "path = graph.find_path(start_node, goal_node)\n",
        "if path:\n",
        "    print(f\"Path from {start_node} to {goal_node}: {path}\")\n",
        "else:\n",
        "    print(f\"No path found from {start_node} to {goal_node}\")\n",
        "\n"
      ],
      "metadata": {
        "colab": {
          "base_uri": "https://localhost:8080/"
        },
        "id": "-gRxRasNHLkT",
        "outputId": "e72013e0-0bcc-40e0-c683-84670519c154"
      },
      "execution_count": null,
      "outputs": [
        {
          "output_type": "stream",
          "name": "stdout",
          "text": [
            "Path from A to H: ['A', 'C', 'F', 'H']\n"
          ]
        }
      ]
    },
    {
      "cell_type": "code",
      "source": [
        "from collections import defaultdict\n",
        "\n",
        "class Graph:\n",
        "    def __init__(self, vertices):\n",
        "        self.v = vertices\n",
        "        self.graph = defaultdict(list)\n",
        "\n",
        "    def addEdge(self, u, v):\n",
        "        self.graph[u].append(v)\n",
        "\n",
        "    def DLS(self, src, target, maxDepth, path):\n",
        "        if src == target:\n",
        "            path.append(src)\n",
        "            return True\n",
        "\n",
        "        if maxDepth <= 0:\n",
        "            return False\n",
        "\n",
        "        path.append(src)\n",
        "        for i in self.graph[src]:\n",
        "            if self.DLS(i, target, maxDepth - 1, path):\n",
        "                return True\n",
        "\n",
        "        path.pop()\n",
        "        return False\n",
        "\n",
        "    def DFID(self, src, target, maxDepth):\n",
        "        path = []\n",
        "        for i in range(maxDepth):\n",
        "            path.clear()\n",
        "            if self.DLS(src, target, i + 1, path):\n",
        "                return path + [target]\n",
        "        return []\n",
        "\n",
        "g = Graph(10)\n",
        "g.addEdge('A', 'B')\n",
        "g.addEdge('A', 'C')\n",
        "g.addEdge('B', 'C')\n",
        "g.addEdge('C', 'E')\n",
        "g.addEdge('C', 'F')\n",
        "g.addEdge('D', 'F')\n",
        "g.addEdge('D', 'H')\n",
        "g.addEdge('F', 'I')\n",
        "g.addEdge('H', 'I')\n",
        "g.addEdge('I', 'J')\n",
        "g.addEdge('E', 'G')\n",
        "g.addEdge('J', 'G')\n",
        "\n",
        "target = 'G'\n",
        "maxDepth = 4\n",
        "src = 'A'\n",
        "\n",
        "path = g.DFID(src, target, maxDepth)\n",
        "\n",
        "if path:\n",
        "    print(\"Target is reachable from source within max depth.\")\n",
        "    print(\"Path:\", \" -> \".join(map(str, path[:-1])))\n",
        "else:\n",
        "    print(\"Target is NOT reachable from source within max depth.\")\n"
      ],
      "metadata": {
        "colab": {
          "base_uri": "https://localhost:8080/"
        },
        "id": "o-_Yxd-7ANGc",
        "outputId": "574d0f59-c53a-449a-c08b-b40faabaa4b8"
      },
      "execution_count": null,
      "outputs": [
        {
          "output_type": "stream",
          "name": "stdout",
          "text": [
            "Target is reachable from source within max depth.\n",
            "Path: A -> C -> E -> G\n"
          ]
        }
      ]
    }
  ]
}