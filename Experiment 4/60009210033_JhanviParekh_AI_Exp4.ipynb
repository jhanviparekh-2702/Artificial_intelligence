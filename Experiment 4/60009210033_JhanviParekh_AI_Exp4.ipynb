{
  "nbformat": 4,
  "nbformat_minor": 0,
  "metadata": {
    "colab": {
      "provenance": []
    },
    "kernelspec": {
      "name": "python3",
      "display_name": "Python 3"
    },
    "language_info": {
      "name": "python"
    }
  },
  "cells": [
    {
      "cell_type": "code",
      "source": [
        "import copy\n",
        "import heapq\n",
        "class Block:\n",
        "  def __init__(self, name):\n",
        "    self.name = name\n",
        "  def __str__(self):\n",
        "    return self.name\n",
        "\n",
        "class State:\n",
        "  def __init__(self, stacks):\n",
        "    self.stacks = stacks\n",
        "  def __str__(self):\n",
        "    return '\\n'.join([' '.join([str(block) for block in stack]) for stack in self.stacks])\n",
        "\n",
        "def heuristic_misplaced_count(state, goal_state):\n",
        "  count = 0\n",
        "  min_stack_length = min(len(state.stacks), len(goal_state.stacks))\n",
        "  for i in range(min_stack_length):\n",
        "    min_block_length = min(len(state.stacks[i]), len(goal_state.stacks[i]))\n",
        "    for j in range(min_block_length):\n",
        "      if state.stacks[i][j] != goal_state.stacks[i][j]:\n",
        "        count += 1\n",
        "  return count\n",
        "\n",
        "def heuristic_sum_of_distances(state, goal_state):\n",
        "  total_distance = 0\n",
        "  for i in range(len(state.stacks)):\n",
        "    for block in state.stacks[i]:\n",
        "      for j in range(len(goal_state.stacks)):\n",
        "        if block in goal_state.stacks[j]:\n",
        "          distance = abs(i - j)\n",
        "          total_distance += distance\n",
        "  return total_distance\n",
        "\n",
        "def movegen(state):\n",
        "  n = len(state.stacks)\n",
        "  neighbors = []\n",
        "  for i in range(n):\n",
        "    for j in range(n):\n",
        "      if i != j and state.stacks[i]:\n",
        "        new_state = copy.deepcopy(state)\n",
        "        block = new_state.stacks[i].pop()\n",
        "        new_state.stacks[j].append(block)\n",
        "        neighbors.append(new_state)\n",
        "  return neighbors\n",
        "\n",
        "\n",
        "def hill_climbing(initial_state, goal_state, heuristic_fn):\n",
        "  current_state = initial_state\n",
        "  path = [current_state]\n",
        "  while True:\n",
        "    neighbors = movegen(current_state)\n",
        "    if not neighbors:\n",
        "      break\n",
        "    neighbor_costs = [heuristic_fn(neighbor, goal_state) for neighbor in neighbors]\n",
        "    best_neighbor_index = neighbor_costs.index(min(neighbor_costs))\n",
        "    best_neighbor = neighbors[best_neighbor_index]\n",
        "    if heuristic_fn(best_neighbor, goal_state) >= heuristic_fn(current_state, goal_state):\n",
        "      break\n",
        "    current_state = best_neighbor\n",
        "    path.append(current_state)\n",
        "  return path\n",
        "\n",
        "\n",
        "initial_state = State([['A', 'B', 'C', 'D'], ['E', 'F'], []])\n",
        "goal_state = State([['A', 'E', 'B', 'C', 'D'], ['F'], []])\n",
        "print(\"Initial State:\")\n",
        "print(initial_state)\n",
        "print(\"\\nGoal State:\")\n",
        "print(goal_state)\n",
        "print(\"\\nHill Climbing with Heuristic 1:\")\n",
        "path_hill_climbing_1 = hill_climbing(initial_state, goal_state, heuristic_misplaced_count)\n",
        "if path_hill_climbing_1[-1]==initial_state:\n",
        "  print(\"No solution found\")\n",
        "else:\n",
        "  print(\"Path\")\n",
        "  for state in path_hill_climbing_1:\n",
        "    print(state)\n",
        "\n",
        "print(\"\\nHill Climbing with Heuristic 2:\")\n",
        "path_hill_climbing_2 = hill_climbing(initial_state, goal_state, heuristic_sum_of_distances)\n",
        "if path_hill_climbing_2[-1]==initial_state:\n",
        "  print(\"No solution found\")\n",
        "else:\n",
        "  print(\"Path\")\n",
        "  for state in path_hill_climbing_2:\n",
        "    print(state)"
      ],
      "metadata": {
        "colab": {
          "base_uri": "https://localhost:8080/"
        },
        "id": "j1--fSrMpbSU",
        "outputId": "b9dd292c-71c1-4058-c5aa-a4ee16faa886"
      },
      "execution_count": null,
      "outputs": [
        {
          "output_type": "stream",
          "name": "stdout",
          "text": [
            "Initial State:\n",
            "A B C D\n",
            "E F\n",
            "\n",
            "\n",
            "Goal State:\n",
            "A E B C D\n",
            "F\n",
            "\n",
            "\n",
            "Hill Climbing with Heuristic 1:\n",
            "Path\n",
            "A B C D\n",
            "E F\n",
            "\n",
            "A B C\n",
            "E F D\n",
            "\n",
            "A B\n",
            "E F D C\n",
            "\n",
            "A\n",
            "E F D C B\n",
            "\n",
            "\n",
            "Hill Climbing with Heuristic 2:\n",
            "No solution found\n"
          ]
        }
      ]
    },
    {
      "cell_type": "code",
      "source": [
        "import random\n",
        "\n",
        "sat_problem_1 = [['A', '!B'], ['B', '!C'], ['!B'], ['!C', 'E'], ['A', 'C'], ['!C', '!D']]\n",
        "sat_problem_2 = [['A', 'B'], ['A', '!C'], ['B', 'D'], ['A', '!E']]\n",
        "\n",
        "def is_solution_satisfactory(solution, sat_problem):\n",
        "    for clause in sat_problem:\n",
        "        clause_satisfied = False\n",
        "        for literal in clause:\n",
        "            if literal[0] == '!':\n",
        "                negated_literal = literal[1:]\n",
        "                if negated_literal not in solution:\n",
        "                    clause_satisfied = True\n",
        "                    break\n",
        "            else:\n",
        "                if literal in solution:\n",
        "                    clause_satisfied = True\n",
        "                    break\n",
        "        if not clause_satisfied:\n",
        "            return False\n",
        "    return True\n",
        "\n",
        "def neighborhood_structure(solution):\n",
        "    neighbors = []\n",
        "    literal_to_flip = random.choice(solution)\n",
        "    neighbor = solution[:]\n",
        "    if '!' + literal_to_flip in neighbor:\n",
        "        neighbor.remove('!' + literal_to_flip)\n",
        "    else:\n",
        "        neighbor.remove(literal_to_flip)\n",
        "    neighbors.append(neighbor)\n",
        "    return neighbors\n",
        "\n",
        "\n",
        "def variable_neighborhood_descent(sat_problem):\n",
        "    variables = set(literal for clause in sat_problem for literal in clause)\n",
        "    current_solution = generate_initial_solution(variables)\n",
        "\n",
        "    while True:\n",
        "        neighbors = neighborhood_structure(current_solution)\n",
        "\n",
        "        for neighbor in neighbors:\n",
        "            if is_solution_satisfactory(neighbor, sat_problem):\n",
        "                current_solution = neighbor\n",
        "                break\n",
        "        else:\n",
        "            return False\n",
        "\n",
        "    return True\n",
        "\n",
        "def generate_initial_solution(variables):\n",
        "    return [random.choice([var, '!' + var]) for var in variables]\n",
        "\n",
        "solution_1 = variable_neighborhood_descent(sat_problem_1)\n",
        "\n",
        "print(\"Satisfying assignment for SAT problem 1 found:\", solution_1)\n",
        "\n",
        "solution_2 = variable_neighborhood_descent(sat_problem_2)\n",
        "\n",
        "print(\"Satisfying assignment for SAT problem 2 found:\", solution_2)\n"
      ],
      "metadata": {
        "colab": {
          "base_uri": "https://localhost:8080/"
        },
        "id": "mPJll5sGpbVF",
        "outputId": "a67681d6-c337-4878-fe7c-4acac020a6b2"
      },
      "execution_count": null,
      "outputs": [
        {
          "output_type": "stream",
          "name": "stdout",
          "text": [
            "Satisfying assignment for SAT problem 1 found: False\n",
            "Satisfying assignment for SAT problem 2 found: False\n"
          ]
        }
      ]
    },
    {
      "cell_type": "code",
      "source": [
        "import random\n",
        "\n",
        "def sat_formula(A, B, C, D, E):\n",
        "    clause1 = (A or not B)\n",
        "    clause2 = (B or not C)\n",
        "    clause3 = (not B)\n",
        "    clause4 = (not C or E)\n",
        "    clause5 = (A or C)\n",
        "    clause6 = (not C or not D)\n",
        "\n",
        "    return clause1 and clause2 and clause3 and clause4 and clause5 and clause6\n",
        "\n",
        "\n",
        "def objective_function(A, B, C, D, E):\n",
        "    return sum([not sat_formula(A, B, C, D, E)])\n",
        "\n",
        "\n",
        "def random_initial_state():\n",
        "    return {var: random.choice([True, False]) for var in ['A', 'B', 'C', 'D', 'E']}\n",
        "\n",
        "def local_search(state):\n",
        "    while True:\n",
        "        neighbors = neighborhood_structure(state)\n",
        "        best_neighbor = min(neighbors, key=lambda s: objective_function(**s))\n",
        "        if objective_function(**best_neighbor) >= objective_function(**state):\n",
        "            break\n",
        "        state = best_neighbor\n",
        "    return state\n",
        "\n",
        "\n",
        "def neighborhood_structure(state):\n",
        "    neighbors = []\n",
        "    for var, value in state.items():\n",
        "        neighbor = state.copy()\n",
        "        neighbor[var] = not value\n",
        "        neighbors.append(neighbor)\n",
        "    return neighbors\n",
        "\n",
        "current_state = random_initial_state()\n",
        "best_state = local_search(current_state)\n",
        "\n",
        "print(\"Final Assignment:\")\n",
        "print(best_state)\n",
        "print(\"Number of Unsatisfied Clauses:\", objective_function(**best_state))\n",
        "\n"
      ],
      "metadata": {
        "colab": {
          "base_uri": "https://localhost:8080/"
        },
        "id": "U4PNYvOjpbXS",
        "outputId": "e5188c18-38dd-4272-d790-3e0ecfdf7700"
      },
      "execution_count": null,
      "outputs": [
        {
          "output_type": "stream",
          "name": "stdout",
          "text": [
            "Final Assignment:\n",
            "{'A': True, 'B': False, 'C': False, 'D': False, 'E': False}\n",
            "Number of Unsatisfied Clauses: 0\n"
          ]
        }
      ]
    },
    {
      "cell_type": "markdown",
      "source": [
        "problem 1"
      ],
      "metadata": {
        "id": "-AERT02TsS_t"
      }
    },
    {
      "cell_type": "code",
      "source": [
        "# @title 1.\tF = (A V ~B) ^ (B V ~  C) ^ (~B) ^ (~C V E) ^ (A V C) ^ (~C V ~D)\n",
        "import random\n",
        "\n",
        "def sat_formula(A, B, C, D, E):\n",
        "    clause1 = (A or not B)\n",
        "    clause2 = (B or not C)\n",
        "    clause3 = (not B)\n",
        "    clause4 = (not C or E)\n",
        "    clause5 = (A or C)\n",
        "    clause6 = (not C or not D)\n",
        "\n",
        "    return clause1 and clause2 and clause3 and clause4 and clause5 and clause6\n",
        "\n",
        "def objective_function(A, B, C, D, E):\n",
        "    return sum([not sat_formula(A, B, C, D, E)])\n",
        "\n",
        "def random_initial_state():\n",
        "    return {var: random.choice([True, False]) for var in ['A', 'B', 'C', 'D', 'E']}\n",
        "\n",
        "def local_search(state):\n",
        "    while True:\n",
        "        neighbors = neighborhood_structure(state)\n",
        "        best_neighbor = min(neighbors, key=lambda s: objective_function(**s))\n",
        "        if objective_function(**best_neighbor) >= objective_function(**state):\n",
        "            break\n",
        "        state = best_neighbor\n",
        "    return state\n",
        "\n",
        "def neighborhood_structure(state):\n",
        "    neighbors = []\n",
        "    for var, value in state.items():\n",
        "        neighbor = state.copy()\n",
        "        neighbor[var] = not value\n",
        "        neighbors.append(neighbor)\n",
        "    return neighbors\n",
        "\n",
        "# Specify the number of iterations\n",
        "num_iterations = 100\n",
        "\n",
        "# Run local search for a fixed number of iterations\n",
        "best_state = None\n",
        "best_cost = float('inf')\n",
        "for _ in range(num_iterations):\n",
        "    current_state = random_initial_state()\n",
        "    current_state = local_search(current_state)\n",
        "    current_cost = objective_function(**current_state)\n",
        "    if current_cost < best_cost:\n",
        "        best_state = current_state\n",
        "        best_cost = current_cost\n",
        "\n",
        "# Print the final assignment after the specified number of iterations\n",
        "print(\"Final Assignment after\", num_iterations, \"Iterations:\")\n",
        "print(best_state)\n",
        "print(\"Number of Unsatisfied Clauses:\", objective_function(**best_state))\n"
      ],
      "metadata": {
        "colab": {
          "base_uri": "https://localhost:8080/"
        },
        "id": "-wu6XNaZpbZy",
        "outputId": "67e4728b-6ba0-4a7c-884c-cf6ebd93b9bf"
      },
      "execution_count": null,
      "outputs": [
        {
          "output_type": "stream",
          "name": "stdout",
          "text": [
            "Final Assignment after 100 Iterations:\n",
            "{'A': True, 'B': False, 'C': False, 'D': True, 'E': False}\n",
            "Number of Unsatisfied Clauses: 0\n"
          ]
        }
      ]
    },
    {
      "cell_type": "markdown",
      "source": [
        "problem 2"
      ],
      "metadata": {
        "id": "WekSleFrxZk3"
      }
    },
    {
      "cell_type": "code",
      "source": [
        "# @title 2.\tF = ( A V B) ^ ( A ^ ~C) ^ ( B ^ D ) ^ ( A V ~E)\n",
        "import random\n",
        "\n",
        "def sat_formula(A, B, C, D, E):\n",
        "    clause1 = (A or B)\n",
        "    clause2 = (A and not C)\n",
        "    clause3 = (B and D)\n",
        "    clause4 = (A or (not E))\n",
        "\n",
        "    return clause1 and clause2 and clause3 and clause4\n",
        "\n",
        "def random_initial_state():\n",
        "    return {var: random.choice([True, False]) for var in ['A', 'B', 'C', 'D', 'E']}\n",
        "\n",
        "def local_search(state):\n",
        "    while True:\n",
        "        neighbors = neighborhood_structure(state)\n",
        "        best_neighbor = min(neighbors, key=lambda s: objective_function(**s))\n",
        "        if objective_function(**best_neighbor) >= objective_function(**state):\n",
        "            break\n",
        "        state = best_neighbor\n",
        "    return state\n",
        "\n",
        "def neighborhood_structure(state):\n",
        "    neighbors = []\n",
        "    for var, value in state.items():\n",
        "        neighbor = state.copy()\n",
        "        neighbor[var] = not value\n",
        "        neighbors.append(neighbor)\n",
        "    return neighbors\n",
        "\n",
        "def objective_function(A, B, C, D, E):\n",
        "    return sum([not sat_formula(A, B, C, D, E)])\n",
        "\n",
        "# Specify the number of iterations\n",
        "num_iterations = 100\n",
        "\n",
        "# Run local search for a fixed number of iterations\n",
        "best_state = None\n",
        "best_cost = float('inf')\n",
        "for _ in range(num_iterations):\n",
        "    current_state = random_initial_state()\n",
        "    current_state = local_search(current_state)\n",
        "    current_cost = objective_function(**current_state)\n",
        "    if current_cost < best_cost:\n",
        "        best_state = current_state\n",
        "        best_cost = current_cost\n",
        "\n",
        "# Print the final assignment after the specified number of iterations\n",
        "print(\"Final Assignment after\", num_iterations, \"Iterations:\")\n",
        "print(best_state)\n",
        "print(\"Number of Unsatisfied Clauses:\", objective_function(**best_state))"
      ],
      "metadata": {
        "colab": {
          "base_uri": "https://localhost:8080/"
        },
        "id": "vlJpQNgvtD2w",
        "outputId": "1f2d97bf-4f81-45cf-c684-27ebfa4dc50f"
      },
      "execution_count": null,
      "outputs": [
        {
          "output_type": "stream",
          "name": "stdout",
          "text": [
            "Final Assignment after 100 Iterations:\n",
            "{'A': True, 'B': True, 'C': False, 'D': True, 'E': True}\n",
            "Number of Unsatisfied Clauses: 0\n"
          ]
        }
      ]
    }
  ]
}