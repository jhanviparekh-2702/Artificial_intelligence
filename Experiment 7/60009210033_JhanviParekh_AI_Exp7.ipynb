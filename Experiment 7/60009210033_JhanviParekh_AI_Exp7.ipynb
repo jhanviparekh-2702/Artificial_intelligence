{
  "nbformat": 4,
  "nbformat_minor": 0,
  "metadata": {
    "colab": {
      "provenance": []
    },
    "kernelspec": {
      "name": "python3",
      "display_name": "Python 3"
    },
    "language_info": {
      "name": "python"
    }
  },
  "cells": [
    {
      "cell_type": "code",
      "execution_count": null,
      "metadata": {
        "colab": {
          "base_uri": "https://localhost:8080/"
        },
        "id": "u9Zsto-HSLe0",
        "outputId": "dfcde989-26e7-4125-f339-0753a8480c4b"
      },
      "outputs": [
        {
          "output_type": "stream",
          "name": "stdout",
          "text": [
            "Enter X ,O or . (for blank)x\n",
            "Enter X ,O or . (for blank).\n",
            "Enter X ,O or . (for blank).\n",
            "Enter X ,O or . (for blank)o\n",
            "Enter X ,O or . (for blank)o\n",
            "Enter X ,O or . (for blank)x\n",
            "Enter X ,O or . (for blank).\n",
            "Enter X ,O or . (for blank)o\n",
            "Enter X ,O or . (for blank)x\n",
            "['x', '.', '.', 'o', 'o', 'x', '.', 'o', 'x']\n"
          ]
        }
      ],
      "source": [
        "board=[]\n",
        "for i in range(9):\n",
        "  board.append(input(\"Enter X ,O or . (for blank)\"))\n",
        "print(board)"
      ]
    },
    {
      "cell_type": "code",
      "source": [
        "#board=['x', 'o', 'o', '.', 'o', '.', '.', 'x', 'x']\n",
        "def print_board(board):\n",
        "    for i in range(0, 9, 3):\n",
        "        print(\" \".join(board[i:i+3]))\n",
        "print_board(board)"
      ],
      "metadata": {
        "colab": {
          "base_uri": "https://localhost:8080/"
        },
        "id": "LC3260o7SbqX",
        "outputId": "077d6a5b-b6b9-448e-c334-5be8b51c48e4"
      },
      "execution_count": null,
      "outputs": [
        {
          "output_type": "stream",
          "name": "stdout",
          "text": [
            "x . .\n",
            "o o x\n",
            ". o x\n"
          ]
        }
      ]
    },
    {
      "cell_type": "code",
      "source": [
        "def check(borad):\n",
        "    if (board[0] == board[1] == board[2] != \"-\") or  (board[3] == board[4] == board[5] != \"-\") or \\\n",
        "       (board[6] == board[7] == board[8] != \"-\") or  (board[0] == board[3] == board[6] != \"-\") or \\\n",
        "       (board[1] == board[4] == board[7] != \"-\") or  (board[2] == board[5] == board[8] != \"-\") or \\\n",
        "       (board[0] == board[4] == board[8] != \"-\") or  (board[2] == board[4] == board[6] != \"-\"):\n",
        "     print(\"win\")\n",
        "     return 1\n",
        "    else :\n",
        "     print(\"loose\")\n",
        "     return -1\n"
      ],
      "metadata": {
        "id": "B_TPgsQtSdVO"
      },
      "execution_count": null,
      "outputs": []
    },
    {
      "cell_type": "code",
      "source": [
        "def check_empty(board):\n",
        "    return \".\"  in board\n",
        "check_empty(board)"
      ],
      "metadata": {
        "colab": {
          "base_uri": "https://localhost:8080/"
        },
        "id": "ItDRdPfuSf4m",
        "outputId": "1cfe906a-4bd1-4c70-df1a-80488f7b5929"
      },
      "execution_count": null,
      "outputs": [
        {
          "output_type": "execute_result",
          "data": {
            "text/plain": [
              "True"
            ]
          },
          "metadata": {},
          "execution_count": 41
        }
      ]
    },
    {
      "cell_type": "code",
      "source": [
        "def movegen(board, player):\n",
        "    moves = []\n",
        "    for i in range(9):\n",
        "        if board[i] == \".\":\n",
        "            new_board = board.copy()\n",
        "            new_board[i] = player\n",
        "            moves.append(new_board)\n",
        "    return moves\n",
        "\n",
        "possible_moves = movegen(board, \"x\")\n",
        "\n",
        "for move in possible_moves:\n",
        "    for i in range(0, 9, 3):\n",
        "        print(\" \".join(move[i:i+3]))\n",
        "    print()\n"
      ],
      "metadata": {
        "colab": {
          "base_uri": "https://localhost:8080/"
        },
        "id": "4DpdDsuAShgm",
        "outputId": "ab1bac19-a22c-47e0-ca5e-a701c172815b"
      },
      "execution_count": null,
      "outputs": [
        {
          "output_type": "stream",
          "name": "stdout",
          "text": [
            "x x .\n",
            "o o x\n",
            ". o x\n",
            "\n",
            "x . x\n",
            "o o x\n",
            ". o x\n",
            "\n",
            "x . .\n",
            "o o x\n",
            "x o x\n",
            "\n"
          ]
        }
      ]
    },
    {
      "cell_type": "code",
      "source": [
        "for board in possible_moves:\n",
        "  for i in range(0, 9, 3):\n",
        "        print(\" \".join(board[i:i+3]))\n",
        "  check(board)\n",
        "  print()"
      ],
      "metadata": {
        "id": "ZBb2jcyJSja2",
        "outputId": "bfbd476a-3147-4a12-ed21-98c269619c7c",
        "colab": {
          "base_uri": "https://localhost:8080/"
        }
      },
      "execution_count": null,
      "outputs": [
        {
          "output_type": "stream",
          "name": "stdout",
          "text": [
            "x x .\n",
            "o o x\n",
            ". o x\n",
            "loose\n",
            "\n",
            "x . x\n",
            "o o x\n",
            ". o x\n",
            "win\n",
            "\n",
            "x . .\n",
            "o o x\n",
            "x o x\n",
            "loose\n",
            "\n"
          ]
        }
      ]
    }
  ]
}