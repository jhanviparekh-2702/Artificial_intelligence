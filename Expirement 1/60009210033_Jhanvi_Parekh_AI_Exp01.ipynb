{
  "nbformat": 4,
  "nbformat_minor": 0,
  "metadata": {
    "colab": {
      "provenance": []
    },
    "kernelspec": {
      "name": "python3",
      "display_name": "Python 3"
    },
    "language_info": {
      "name": "python"
    }
  },
  "cells": [
    {
      "cell_type": "markdown",
      "source": [
        "Question 1"
      ],
      "metadata": {
        "id": "FUp1HI8jNVLp"
      }
    },
    {
      "cell_type": "code",
      "source": [
        "class State:\n",
        "    def __init__(self, jug1, jug2):\n",
        "        self.jug1 = jug1\n",
        "        self.jug2 = jug2\n",
        "\n",
        "    def __eq__(self, other):\n",
        "        return self.jug1 == other.jug1 and self.jug2 == other.jug2\n",
        "\n",
        "    def __hash__(self):\n",
        "        return hash((self.jug1, self.jug2))\n",
        "\n",
        "def move_gen(state):\n",
        "    moves = []\n",
        "\n",
        "    # Fill jug 1\n",
        "    moves.append(State(3, state.jug2))\n",
        "\n",
        "    # Fill jug 2\n",
        "    moves.append(State(state.jug1, 7))\n",
        "\n",
        "    # Empty jug 1\n",
        "    moves.append(State(0, state.jug2))\n",
        "\n",
        "    # Empty jug 2\n",
        "    moves.append(State(state.jug1, 0))\n",
        "\n",
        "    # Pour jug 1 into jug 2\n",
        "    pour_amount = min(state.jug1, 7 - state.jug2)\n",
        "    moves.append(State(state.jug1 - pour_amount, state.jug2 + pour_amount))\n",
        "\n",
        "    # Pour jug 2 into jug 1\n",
        "    pour_amount = min(3 - state.jug1, state.jug2)\n",
        "    moves.append(State(state.jug1 + pour_amount, state.jug2 - pour_amount))\n",
        "\n",
        "    return moves\n",
        "\n",
        "def goal_test(state):\n",
        "    return state.jug1 == 6 or state.jug2 == 6\n",
        "\n",
        "def bfs(initial_state):\n",
        "    queue = [(initial_state, [])]\n",
        "    visited = set()\n",
        "\n",
        "    while queue:\n",
        "        state, path = queue.pop(0)\n",
        "        visited.add(state)\n",
        "\n",
        "        if goal_test(state):\n",
        "            return path\n",
        "\n",
        "        for next_state in move_gen(state):\n",
        "            if next_state not in visited:\n",
        "                queue.append((next_state, path + [next_state]))\n",
        "\n",
        "initial_state = State(0, 0)\n",
        "solution = bfs(initial_state)\n",
        "\n",
        "for i, state in enumerate(solution):\n",
        "    print(f\"Step {i+1}: Jug 1 = {state.jug1}, Jug 2 = {state.jug2}\")\n"
      ],
      "metadata": {
        "colab": {
          "base_uri": "https://localhost:8080/"
        },
        "id": "pMLvvFTjN3d3",
        "outputId": "63fb0d07-bf45-4dd4-b035-10a2e5c32706"
      },
      "execution_count": null,
      "outputs": [
        {
          "output_type": "stream",
          "name": "stdout",
          "text": [
            "Step 1: Jug 1 = 3, Jug 2 = 0\n",
            "Step 2: Jug 1 = 0, Jug 2 = 3\n",
            "Step 3: Jug 1 = 3, Jug 2 = 3\n",
            "Step 4: Jug 1 = 0, Jug 2 = 6\n"
          ]
        }
      ]
    },
    {
      "cell_type": "code",
      "source": [
        "jugs = []\n",
        "for i in range(3):\n",
        "    jugs.append(int(input(f\"Enter capacity of jug {i+1} \")))\n",
        "temp = jugs[2]\n",
        "ans = []\n",
        "lst = [0, 0, temp]\n",
        "ans.append(lst)\n",
        "lst = [min(temp, jugs[0]), 0, temp - min(jugs[0], temp)]\n",
        "ans.append(lst)\n",
        "lst = [0, min(temp, jugs[1]), temp - min(jugs[1], temp)]\n",
        "ans.append(lst)\n",
        "lst = [min(temp, jugs[0]), min(jugs[1], temp - min(temp, jugs[0]))]\n",
        "lst.append(temp - (lst[0] + lst[1]))\n",
        "if lst not in ans:\n",
        "    ans.append(lst)\n",
        "lst = [min(jugs[0], temp - min(temp, jugs[1])), min(temp, jugs[1])]\n",
        "lst.append(temp - (lst[0] + lst[1]))\n",
        "if lst not in ans:\n",
        "    ans.append(lst)\n",
        "print(ans)\n"
      ],
      "metadata": {
        "colab": {
          "base_uri": "https://localhost:8080/"
        },
        "id": "PwiROFxdYMo2",
        "outputId": "dbe3eb68-6382-4826-db3e-2ee47ac9bc1e"
      },
      "execution_count": null,
      "outputs": [
        {
          "output_type": "stream",
          "name": "stdout",
          "text": [
            "Enter capacity of jug 1 5\n",
            "Enter capacity of jug 2 3\n",
            "Enter capacity of jug 3 8\n",
            "[[0, 0, 8], [5, 0, 3], [0, 3, 5], [5, 3, 0]]\n"
          ]
        }
      ]
    },
    {
      "cell_type": "markdown",
      "source": [
        "Question 2"
      ],
      "metadata": {
        "id": "ahFfJPERQXSm"
      }
    },
    {
      "cell_type": "code",
      "source": [
        "class Graph:\n",
        "    def __init__(self):\n",
        "        self.graph = {}\n",
        "\n",
        "    def add_edge(self, node, neighbors):\n",
        "        self.graph[node] = neighbors\n",
        "\n",
        "    def get_neighbors(self, node):\n",
        "        return self.graph.get(node, [])\n",
        "\n",
        "    def bfs_shortest_path(self, start_node, end_node):\n",
        "        visited = set()\n",
        "        queue = [(start_node, [start_node])]  # Queue stores tuples (node, path)\n",
        "\n",
        "        while queue:\n",
        "            node, path = queue.pop(0)\n",
        "            if node not in visited:\n",
        "                visited.add(node)\n",
        "\n",
        "                if node == end_node:\n",
        "                    return path\n",
        "\n",
        "                for neighbor in self.get_neighbors(node):\n",
        "                    if neighbor not in visited:\n",
        "                        new_path = path + [neighbor]\n",
        "                        queue.append((neighbor, new_path))\n",
        "\n",
        "        return None  # No path found\n",
        "\n",
        "# Function to input the graph from the user\n",
        "def input_graph():\n",
        "    graph = Graph()\n",
        "    while True:\n",
        "        node = input(\"Enter a node (or 'done' to finish): \")\n",
        "        if node == 'done':\n",
        "            break\n",
        "\n",
        "        neighbors = input(f\"Enter neighbors for node '{node}' (comma-separated, or 'none' for no neighbors): \").split(',')\n",
        "        neighbors = [neighbor.strip() for neighbor in neighbors if neighbor.strip() != 'none']\n",
        "\n",
        "        graph.add_edge(node, neighbors)\n",
        "\n",
        "    return graph\n",
        "\n",
        "# Example usage:\n",
        "print(\"Input your graph:\")\n",
        "user_graph = input_graph()\n",
        "\n",
        "start_node = 'A'\n",
        "end_node = 'G'\n",
        "\n",
        "shortest_path = user_graph.bfs_shortest_path(start_node, end_node)\n",
        "\n",
        "if shortest_path:\n",
        "    print(f\"Shortest path from {start_node} to {end_node}: {' -> '.join(shortest_path)}\")\n",
        "else:\n",
        "    print(f\"No path found from {start_node} to {end_node}.\")\n",
        "\n",
        "\n"
      ],
      "metadata": {
        "colab": {
          "base_uri": "https://localhost:8080/"
        },
        "id": "W-3CVQLRRdek",
        "outputId": "0dbacb0b-3eeb-4c33-d3fd-6c993e345ca9"
      },
      "execution_count": null,
      "outputs": [
        {
          "output_type": "stream",
          "name": "stdout",
          "text": [
            "Input your graph:\n",
            "Enter a node (or 'done' to finish): A\n",
            "Enter neighbors for node 'A' (comma-separated, or 'none' for no neighbors): B,C\n",
            "Enter a node (or 'done' to finish):  B\n",
            "Enter neighbors for node ' B' (comma-separated, or 'none' for no neighbors): C,D\n",
            "Enter a node (or 'done' to finish): C\n",
            "Enter neighbors for node 'C' (comma-separated, or 'none' for no neighbors): E,F\n",
            "Enter a node (or 'done' to finish): D\n",
            "Enter neighbors for node 'D' (comma-separated, or 'none' for no neighbors): H,F\n",
            "Enter a node (or 'done' to finish): E\n",
            "Enter neighbors for node 'E' (comma-separated, or 'none' for no neighbors): G\n",
            "Enter a node (or 'done' to finish): F\n",
            "Enter neighbors for node 'F' (comma-separated, or 'none' for no neighbors): I\n",
            "Enter a node (or 'done' to finish): H\n",
            "Enter neighbors for node 'H' (comma-separated, or 'none' for no neighbors): F,I\n",
            "Enter a node (or 'done' to finish): I\n",
            "Enter neighbors for node 'I' (comma-separated, or 'none' for no neighbors): J\n",
            "Enter a node (or 'done' to finish): J\n",
            "Enter neighbors for node 'J' (comma-separated, or 'none' for no neighbors): G\n",
            "Enter a node (or 'done' to finish): done\n",
            "Shortest path from A to G: A -> C -> E -> G\n"
          ]
        }
      ]
    },
    {
      "cell_type": "markdown",
      "source": [
        "Question3"
      ],
      "metadata": {
        "id": "F1uOoAEDRa00"
      }
    },
    {
      "cell_type": "code",
      "source": [
        "def gridPrint(blankX, blankY, tempX, tempY, board):\n",
        "    for i in range(3):\n",
        "        for j in range(3):\n",
        "            if(i== blankX and j== blankY):\n",
        "                print(f\"{board[tempX][tempY]}\", end= \" \")\n",
        "                continue\n",
        "            if(i== tempX and j== tempY):\n",
        "                print(f\"{board[blankX][blankY]}\", end= \" \")\n",
        "                continue\n",
        "            print(f\"{board[i][j]}\", end= \" \")\n",
        "        print(\"\")\n",
        "board= []\n",
        "\n",
        "posX= -1\n",
        "\n",
        "posY= -1\n",
        "\n",
        "count= 1\n",
        "\n",
        "solved= True\n",
        "\n",
        "for i in range(3):\n",
        "    lst= []\n",
        "    for j in range(3):\n",
        "        temp= int(input(f\"Enter for [{i+1}], [{j+1}] number \"))\n",
        "\n",
        "        lst.append(temp)\n",
        "        if(count!= temp and count!= 9):\n",
        "\n",
        "            solved= False\n",
        "        count+= 1\n",
        "\n",
        "        if(temp== 0):\n",
        "\n",
        "            posX= i\n",
        "\n",
        "            posY= j\n",
        "    board.append(lst)\n",
        "if(solved):\n",
        "    print(\"Already solved \")\n",
        "else:\n",
        "  for i in range(3):\n",
        "\n",
        "      for j in range(3):\n",
        "          print(board[i][j], end= \" \")\n",
        "      print()\n",
        "  ans= []\n",
        "  if(posX != 0):\n",
        "\n",
        "      ans.append(board[posX-1][posY])\n",
        "\n",
        "      print(\"If we move the blank space up \")\n",
        "\n",
        "      gridPrint(posX, posY, posX-1, posY, board)\n",
        "\n",
        "  if(posY != 0):\n",
        "\n",
        "      ans.append(board[posX][posY-1])\n",
        "\n",
        "      print(\"If we move the blank space left \")\n",
        "\n",
        "      gridPrint(posX, posY, posX, posY-1, board)\n",
        "\n",
        "  if(posX!= 2):\n",
        "\n",
        "      ans.append(board[posX+1][posY])\n",
        "\n",
        "      print(\"If we move the blank space down \")\n",
        "\n",
        "      gridPrint(posX, posY, posX+1, posY, board)\n",
        "\n",
        "  if(posY!= 2):\n",
        "\n",
        "      ans.append(board[posX][posY+1])\n",
        "\n",
        "      print(\"If we move the blank space right \")\n",
        "\n",
        "      gridPrint(posX, posY, posX, posY+1, board)\n"
      ],
      "metadata": {
        "colab": {
          "base_uri": "https://localhost:8080/"
        },
        "id": "NKW01lqNQYzU",
        "outputId": "a8b4405f-5900-4bdb-cc93-37d0340d42f4"
      },
      "execution_count": null,
      "outputs": [
        {
          "output_type": "stream",
          "name": "stdout",
          "text": [
            "Enter for [1], [1] number 1\n",
            "Enter for [1], [2] number 5\n",
            "Enter for [1], [3] number 4\n",
            "Enter for [2], [1] number 0\n",
            "Enter for [2], [2] number 8\n",
            "Enter for [2], [3] number 6\n",
            "Enter for [3], [1] number 3\n",
            "Enter for [3], [2] number 7\n",
            "Enter for [3], [3] number 2\n",
            "1 5 4 \n",
            "0 8 6 \n",
            "3 7 2 \n",
            "If we move the blank space up \n",
            "0 5 4 \n",
            "1 8 6 \n",
            "3 7 2 \n",
            "If we move the blank space down \n",
            "1 5 4 \n",
            "3 8 6 \n",
            "0 7 2 \n",
            "If we move the blank space right \n",
            "1 5 4 \n",
            "8 0 6 \n",
            "3 7 2 \n"
          ]
        }
      ]
    }
  ]
}