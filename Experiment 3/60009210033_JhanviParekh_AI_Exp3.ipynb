{
  "cells": [
    {
      "cell_type": "code",
      "execution_count": null,
      "metadata": {
        "id": "d2H-wkFuR0Oc"
      },
      "outputs": [],
      "source": [
        "def generate_blocks_world_moves(state):\n",
        "    def move(state, from_stack, to_stack):\n",
        "        if not state[from_stack]:\n",
        "            return None\n",
        "        block_to_move = state[from_stack][-1]\n",
        "        if not state[to_stack] or block_to_move < state[to_stack][-1] or block_to_move > state[to_stack][-1]:\n",
        "            new_state = [stack[:] for stack in state]\n",
        "            new_state[to_stack].append(new_state[from_stack].pop())\n",
        "            return new_state\n",
        "        else:\n",
        "            return None\n",
        "    moves = []\n",
        "    num_stacks = len(state)\n",
        "    for from_stack in range(num_stacks):\n",
        "        for to_stack in range(num_stacks):\n",
        "            if from_stack != to_stack:\n",
        "                new_state = move(state, from_stack, to_stack)\n",
        "                if new_state:\n",
        "                    moves.append((from_stack, to_stack, new_state))\n",
        "    return moves"
      ]
    },
    {
      "cell_type": "code",
      "execution_count": null,
      "metadata": {
        "id": "hRlpgSIrTBJI"
      },
      "outputs": [],
      "source": [
        "initial_state = [['D', 'C','B','A'], ['F','E'], []]\n",
        "moves = generate_blocks_world_moves(initial_state)"
      ]
    },
    {
      "cell_type": "code",
      "execution_count": null,
      "metadata": {
        "colab": {
          "base_uri": "https://localhost:8080/"
        },
        "id": "hbP_6LD6TDam",
        "outputId": "779099d7-3277-4899-d464-cc2b08cea354"
      },
      "outputs": [
        {
          "name": "stdout",
          "output_type": "stream",
          "text": [
            "Move A from stack 0 to stack 1:\n",
            "[['D', 'C', 'B'], ['F', 'E', 'A'], []]\n",
            "Move A from stack 0 to stack 2:\n",
            "[['D', 'C', 'B'], ['F', 'E'], ['A']]\n",
            "Move E from stack 1 to stack 0:\n",
            "[['D', 'C', 'B', 'A', 'E'], ['F'], []]\n",
            "Move E from stack 1 to stack 2:\n",
            "[['D', 'C', 'B', 'A'], ['F'], ['E']]\n"
          ]
        }
      ],
      "source": [
        "for move in moves:\n",
        "    from_stack, to_stack, new_state = move\n",
        "    print(f\"Move {initial_state[from_stack][-1]} from stack {from_stack} to stack {to_stack}:\")\n",
        "    print(new_state)"
      ]
    },
    {
      "cell_type": "code",
      "execution_count": null,
      "metadata": {
        "id": "BAS3TFLAU-BN"
      },
      "outputs": [],
      "source": [
        "import copy"
      ]
    },
    {
      "cell_type": "code",
      "execution_count": null,
      "metadata": {
        "id": "UKJoMTTxiA2A"
      },
      "outputs": [],
      "source": [
        "def movegen(curr_state):\n",
        "    global closed, open_list\n",
        "    state = copy.deepcopy(curr_state)\n",
        "    neighbors = []\n",
        "    for i in range(len(state)):\n",
        "        temp = copy.deepcopy(state)\n",
        "        if len(temp[i]) > 0:\n",
        "            elem = temp[i].pop()\n",
        "            for j in range(len(temp)):\n",
        "                temp1 = copy.deepcopy(temp)\n",
        "                if j != i:\n",
        "                    temp1[j] = temp1[j] + [elem]\n",
        "                    if (temp1 not in closed and temp1 not in open_list):\n",
        "                        neighbors.append(temp1)\n",
        "    return neighbors\n"
      ]
    },
    {
      "cell_type": "code",
      "execution_count": null,
      "metadata": {
        "colab": {
          "base_uri": "https://localhost:8080/"
        },
        "id": "eKPyiMzziNBR",
        "outputId": "6e8b0252-610a-458a-cf90-a8caa8d5288e"
      },
      "outputs": [
        {
          "name": "stdout",
          "output_type": "stream",
          "text": [
            "[[['d', 'c', 'b'], ['f', 'e', 'a'], []], [['d', 'c', 'b'], ['f', 'e'], ['a']], [['d', 'c', 'b', 'a', 'e'], ['f'], []], [['d', 'c', 'b', 'a'], ['f'], ['e']]]\n"
          ]
        }
      ],
      "source": [
        "# Example state: [[3, 2, 1], [], []]\n",
        "curr_state = [[\"d\",\"c\",\"b\",\"a\"], [\"f\",\"e\"],[]]\n",
        "closed = []\n",
        "open_list = []\n",
        "neighbors = movegen(curr_state)\n",
        "print(neighbors)"
      ]
    },
    {
      "cell_type": "code",
      "execution_count": null,
      "metadata": {
        "id": "74nqmfxOiNz_"
      },
      "outputs": [],
      "source": [
        "#Heuristic 1 : considering position of blocks\n",
        "def heuristic1(curr_state):\n",
        "    global goal_state, d_goal\n",
        "    h_val = 0\n",
        "    cur = copy.deepcopy(curr_state)\n",
        "    d_cur = dict((j,(x, y)) for x, i in enumerate(cur) for y, j in enumerate(i))\n",
        "    d_goal = {\n",
        "    \"a\": (0,4),  #Block 1 is in stack 0, position 0\n",
        "    \"b\": (0,2),\n",
        "    \"c\": (0,1),\n",
        "    \"d\": (0,0),\n",
        "    \"e\": (0,3),\n",
        "    \"f\": (1,0)\n",
        "}\n",
        "\n",
        "    for i in range(3):\n",
        "        for j in range(len(cur[i])):\n",
        "            curx, cury = d_cur[cur[i][j]]\n",
        "            goalx, goaly = d_goal[cur[i][j]]\n",
        "            if( goaly == cury and goalx == curx):\n",
        "                h_val += 1\n",
        "            else:\n",
        "                h_val -= 1\n",
        "    return h_val"
      ]
    },
    {
      "cell_type": "code",
      "execution_count": null,
      "metadata": {
        "id": "ZapJj2cZiQ3X"
      },
      "outputs": [],
      "source": [
        "#Heuristic 2 : Considering heights of block\n",
        "def heuristic2(curr_state):\n",
        "    global goal_state, d_goal\n",
        "    h_val = 0\n",
        "    cur = copy.deepcopy(curr_state)\n",
        "    d_cur = dict((j,(x, y)) for x, i in enumerate(cur) for y, j in enumerate(i))\n",
        "    for i in range(3):\n",
        "        for j in range(len(cur[i])):\n",
        "            curx, cury = d_cur[cur[i][j]]\n",
        "            goalx, goaly = d_goal[cur[i][j]]\n",
        "            if( goaly == cury):\n",
        "                h_val += (cury+1)\n",
        "            else:\n",
        "                h_val -=(cury+1)\n",
        "\n",
        "    return h_val\n"
      ]
    },
    {
      "cell_type": "code",
      "execution_count": null,
      "metadata": {
        "id": "QOsMCfX6iTEH"
      },
      "outputs": [],
      "source": [
        "#Heuristic 3 : Manhatten distance between start and goal state\n",
        "def heuristic3(curr_state):\n",
        "    global goal_state, d_goal\n",
        "    h_val = 0\n",
        "    cur = copy.deepcopy(curr_state)\n",
        "    d_cur = dict((j,(x, y)) for x, i in enumerate(cur) for y, j in enumerate(i))\n",
        "    for i in range(3):\n",
        "        for j in range(len(cur[i])):\n",
        "            curx, cury = d_cur[cur[i][j]]\n",
        "            goalx, goaly = d_goal[cur[i][j]]\n",
        "            h_val += (abs(curx-goalx) + abs(cury-goaly))\n",
        "    return h_val"
      ]
    },
    {
      "cell_type": "code",
      "execution_count": null,
      "metadata": {
        "id": "zf_IgfgRiVLo"
      },
      "outputs": [],
      "source": [
        "#Function to find if goal state is reached or not\n",
        "def goaltest(cur_state):\n",
        "    global goal_state\n",
        "    for i in range(3):\n",
        "        if(len(goal_state[i])!=len(cur_state[i])):\n",
        "            return False\n",
        "        for j in range(len(goal_state[i])):\n",
        "            if(goal_state[i][j]!=cur_state[i][j]):\n",
        "                return False\n",
        "    return True"
      ]
    },
    {
      "cell_type": "code",
      "execution_count": null,
      "metadata": {
        "colab": {
          "base_uri": "https://localhost:8080/"
        },
        "id": "oLyfmQWXiXbX",
        "outputId": "4a684c39-666f-4c77-bfa9-6d832b9767f0"
      },
      "outputs": [
        {
          "name": "stdout",
          "output_type": "stream",
          "text": [
            "Heuristic 1 Value: 2\n",
            "Heuristic 2 Value: 1\n",
            "Heuristic 3 Value: 4\n"
          ]
        }
      ],
      "source": [
        "# Assuming goal_state and d_goal are defined elsewhere\n",
        "curr_state = [[\"d\",\"c\",\"b\",\"a\"], [\"f\",\"e\"], []]\n",
        "\n",
        "# Example usage\n",
        "h1_value = heuristic1(curr_state)\n",
        "h2_value = heuristic2(curr_state)\n",
        "h3_value = heuristic3(curr_state)\n",
        "\n",
        "print(f\"Heuristic 1 Value: {h1_value}\")\n",
        "print(f\"Heuristic 2 Value: {h2_value}\")\n",
        "print(f\"Heuristic 3 Value: {h3_value}\")"
      ]
    },
    {
      "cell_type": "markdown",
      "metadata": {
        "id": "41kc23vCiZgf"
      },
      "source": [
        "***BEST FIRST SEARCH***"
      ]
    },
    {
      "cell_type": "code",
      "execution_count": null,
      "metadata": {
        "id": "YSJrarmHidNX"
      },
      "outputs": [],
      "source": [
        "from operator import itemgetter\n",
        "import sys"
      ]
    },
    {
      "cell_type": "code",
      "execution_count": null,
      "metadata": {
        "id": "YevDbhRVoP2C"
      },
      "outputs": [],
      "source": [
        "# Define your start_state and goal_state here\n",
        "start_state = [[\"d\", \"c\", \"b\", \"a\"], [\"f\", \"e\"], []]\n",
        "goal_state = [[], [], [\"a\", \"b\", \"c\", \"d\", \"e\", \"f\"]]"
      ]
    },
    {
      "cell_type": "code",
      "execution_count": null,
      "metadata": {
        "id": "RuNkqp-Uor0T"
      },
      "outputs": [],
      "source": [
        "# Define movegen function\n",
        "def movegen(curr_state):\n",
        "    global closed, open_list\n",
        "    state = copy.deepcopy(curr_state)\n",
        "    neighbors = []\n",
        "    for i in range(len(state)):\n",
        "        temp = copy.deepcopy(state)\n",
        "        if len(temp[i]) > 0:\n",
        "            elem = temp[i].pop()\n",
        "            for j in range(len(temp)):\n",
        "                temp1 = copy.deepcopy(temp)\n",
        "                if j != i:\n",
        "                    temp1[j] = temp1[j] + [elem]\n",
        "                    if (temp1 not in closed and temp1 not in open_list):\n",
        "                        neighbors.append(temp1)\n",
        "    return neighbors"
      ]
    },
    {
      "cell_type": "code",
      "execution_count": null,
      "metadata": {
        "id": "4Qfy2YZqotux"
      },
      "outputs": [],
      "source": [
        "# Define goaltest function\n",
        "def goaltest(cur_state):\n",
        "    global goal_state\n",
        "    for i in range(3):\n",
        "        if(len(goal_state[i]) != len(cur_state[i])):\n",
        "            return False\n",
        "        for j in range(len(goal_state[i])):\n",
        "            if(goal_state[i][j] != cur_state[i][j]):\n",
        "                return False\n",
        "    return True\n"
      ]
    },
    {
      "cell_type": "code",
      "execution_count": null,
      "metadata": {
        "id": "ONZ4m_tqov0b"
      },
      "outputs": [],
      "source": [
        "# Define heuristic1 function\n",
        "def heuristic1(curr_state):\n",
        "    global goal_state\n",
        "    h_val = 0\n",
        "    cur = copy.deepcopy(curr_state)\n",
        "    d_cur = dict((j, (x, y)) for x, i in enumerate(cur) for y, j in enumerate(i))\n",
        "    d_goal = {\n",
        "        \"a\": (0,4),  #Block 1 is in stack 0, position 0\n",
        "        \"b\": (0,2),\n",
        "        \"c\": (0,1),\n",
        "        \"d\": (0,0),\n",
        "        \"e\": (0,3),\n",
        "        \"f\": (1,0)\n",
        "    }\n",
        "    for i in range(3):\n",
        "        for j in range(len(cur[i])):\n",
        "            curx, cury = d_cur[cur[i][j]]\n",
        "            goalx, goaly = d_goal[cur[i][j]]\n",
        "            if goaly == cury and goalx == curx:\n",
        "                h_val += 1\n",
        "            else:\n",
        "                h_val -= 1\n",
        "    return h_val"
      ]
    },
    {
      "cell_type": "code",
      "execution_count": null,
      "metadata": {
        "id": "N4x7UTsBoyQS"
      },
      "outputs": [],
      "source": [
        "# Define heuristic2 function\n",
        "def heuristic2(curr_state):\n",
        "    h_val = 0\n",
        "    cur = copy.deepcopy(curr_state)\n",
        "    d_cur = dict((j, (x, y)) for x, i in enumerate(cur) for y, j in enumerate(i))\n",
        "    for i in range(3):\n",
        "        for j in range(len(cur[i])):\n",
        "            curx, cury = d_cur[cur[i][j]]\n",
        "            h_val += cury + 1\n",
        "    return h_val\n"
      ]
    },
    {
      "cell_type": "code",
      "execution_count": null,
      "metadata": {
        "id": "r_Nhr52zo0iy"
      },
      "outputs": [],
      "source": [
        "# Define heuristic3 function\n",
        "def heuristic3(curr_state):\n",
        "    h_val = 0\n",
        "    cur = copy.deepcopy(curr_state)\n",
        "    d_cur = dict((j, (x, y)) for x, i in enumerate(cur) for y, j in enumerate(i))\n",
        "    d_goal = {\n",
        "        \"a\": (0,4),  #Block 1 is in stack 0, position 0\n",
        "        \"b\": (0,2),\n",
        "        \"c\": (0,1),\n",
        "        \"d\": (0,0),\n",
        "        \"e\": (0,3),\n",
        "        \"f\": (1,0)\n",
        "    }\n",
        "    for i in range(3):\n",
        "        for j in range(len(cur[i])):\n",
        "            curx, cury = d_cur[cur[i][j]]\n",
        "            goalx, goaly = d_goal[cur[i][j]]\n",
        "            h_val += abs(curx - goalx) + abs(cury - goaly)\n",
        "    return h_val"
      ]
    },
    {
      "cell_type": "code",
      "execution_count": null,
      "metadata": {
        "id": "1PW7P9Y8o3SG"
      },
      "outputs": [],
      "source": [
        "# Define the BFS functions\n",
        "def bfs1():\n",
        "    global closed, open_list, heap, start_state, goal_state\n",
        "    open_list = []  # Define open_list within this function\n",
        "    heap = []      # Define heap within this function\n",
        "    closed = []\n",
        "\n",
        "    current_state = copy.deepcopy(start_state)\n",
        "    open_list.append(copy.deepcopy(start_state))\n",
        "\n",
        "    while True:\n",
        "        closed.append(copy.deepcopy(current_state))\n",
        "        if goaltest(current_state):\n",
        "            return \"Goal state reached\"\n",
        "        open_list.remove(current_state)\n",
        "        prev_heu = heuristic1(current_state)\n",
        "        neighbors = movegen(current_state)\n",
        "        for i in neighbors:\n",
        "            open_list.append(i)\n",
        "            heap.append([i, heuristic1(i)])\n",
        "        list = [current_state, prev_heu]\n",
        "        if list in heap:\n",
        "            heap.remove(list)\n",
        "        if len(open_list) == 0:\n",
        "            return \"Goal state can't be reached\"\n",
        "        current_heap = copy.deepcopy(max(heap, key=itemgetter(1)))\n",
        "        current_state = current_heap[0]"
      ]
    },
    {
      "cell_type": "code",
      "execution_count": null,
      "metadata": {
        "id": "kd5SiPoCpP1X"
      },
      "outputs": [],
      "source": [
        "def bfs2():\n",
        "    global closed, open_list, heap, start_state, goal_state\n",
        "    open_list = []  # Define open_list within this function\n",
        "    heap = []      # Define heap within this function\n",
        "    closed = []\n",
        "\n",
        "    current_state = copy.deepcopy(start_state)\n",
        "    open_list.append(copy.deepcopy(start_state))\n",
        "\n",
        "    while True:\n",
        "        closed.append(copy.deepcopy(current_state))\n",
        "        if goaltest(current_state):\n",
        "            return \"Goal state reached\"\n",
        "        open_list.remove(current_state)\n",
        "        prev_heu = heuristic2(current_state)\n",
        "        neighbors = movegen(current_state)\n",
        "        for i in neighbors:\n",
        "            open_list.append(i)\n",
        "            heap.append([i, heuristic2(i)])\n",
        "        list = [current_state, prev_heu]\n",
        "        if list in heap:\n",
        "            heap.remove(list)\n",
        "        if len(open_list) == 0:\n",
        "            return \"Goal state can't be reached\"\n",
        "        current_heap = copy.deepcopy(max(heap, key=itemgetter(1)))\n",
        "        current_state = current_heap[0]"
      ]
    },
    {
      "cell_type": "code",
      "execution_count": null,
      "metadata": {
        "id": "V9r2DZB2pSrn"
      },
      "outputs": [],
      "source": [
        "def bfs3():\n",
        "    global closed, open_list, heap, start_state, goal_state\n",
        "    open_list = []  # Define open_list within this function\n",
        "    heap = []      # Define heap within this function\n",
        "    closed = []\n",
        "\n",
        "    current_state = copy.deepcopy(start_state)\n",
        "    open_list.append(copy.deepcopy(start_state))\n",
        "\n",
        "    while True:\n",
        "        closed.append(copy.deepcopy(current_state))\n",
        "        if goaltest(current_state):\n",
        "            return \"Goal state reached\"\n",
        "        open_list.remove(current_state)\n",
        "        prev_heu = heuristic3(current_state)\n",
        "        neighbors = movegen(current_state)\n",
        "        for i in neighbors:\n",
        "            open_list.append(i)\n",
        "            heap.append([i, heuristic3(i)])\n",
        "        list = [current_state, prev_heu]\n",
        "        if list in heap:\n",
        "            heap.remove(list)\n",
        "        if len(open_list) == 0:\n",
        "            return \"Goal state can't be reached\"\n",
        "        current_heap = copy.deepcopy(min(heap, key=itemgetter(1)))\n",
        "        current_state = current_heap[0]"
      ]
    },
    {
      "cell_type": "code",
      "execution_count": null,
      "metadata": {
        "colab": {
          "base_uri": "https://localhost:8080/"
        },
        "id": "e4H8-_IRo7T1",
        "outputId": "018d7eb2-b8ff-472f-dc21-1e273cecb36f"
      },
      "outputs": [
        {
          "name": "stdout",
          "output_type": "stream",
          "text": [
            "Result of BFS1: Goal state reached\n",
            "Result of BFS2: Goal state reached\n",
            "Result of BFS3: Goal state reached\n"
          ]
        }
      ],
      "source": [
        "result1 = bfs1()\n",
        "result2 = bfs2()\n",
        "result3 = bfs3()\n",
        "\n",
        "print(\"Result of BFS1:\", result1)\n",
        "print(\"Result of BFS2:\", result2)\n",
        "print(\"Result of BFS3:\", result3)"
      ]
    },
    {
      "cell_type": "markdown",
      "metadata": {
        "id": "liefgJAXirOH"
      },
      "source": [
        "***HILL CLIMBING***"
      ]
    },
    {
      "cell_type": "code",
      "execution_count": null,
      "metadata": {
        "id": "P5hzGyFdim1X"
      },
      "outputs": [],
      "source": [
        "def hillClimbing1():\n",
        "    global closed, open_list, heap, start_state, goal_state\n",
        "    current_state = copy.deepcopy(start_state)\n",
        "    open_list.append(copy.deepcopy(start_state))\n",
        "    while(True):\n",
        "        closed.append(copy.deepcopy(current_state))\n",
        "        if(goaltest(current_state)):\n",
        "            f_out.write(\"Goal state reached\\n\\n\")\n",
        "            return current_state\n",
        "        prev_heu = heuristic1(current_state)\n",
        "        neighbors = movegen(current_state)\n",
        "        for i in neighbors:\n",
        "            h = heuristic1(i)\n",
        "            heap.append([i,h])\n",
        "\n",
        "        current_heap = copy.deepcopy(max(heap,key=itemgetter(1)))\n",
        "        if(current_heap[1] <= prev_heu):\n",
        "            f_out.write(\"Goal state can't be reached\\n\\n\")\n",
        "            return current_state\n",
        "\n",
        "        current_state = current_heap[0]\n",
        "        heap = []"
      ]
    },
    {
      "cell_type": "code",
      "execution_count": null,
      "metadata": {
        "id": "QNG50mTJiuIw"
      },
      "outputs": [],
      "source": [
        "def hillClimbing2():\n",
        "    global closed, open_list, heap, start_state, goal_state\n",
        "    current_state = copy.deepcopy(start_state)\n",
        "    open_list.append(copy.deepcopy(start_state))\n",
        "    while(True):\n",
        "        closed.append(copy.deepcopy(current_state))\n",
        "        if(goaltest(current_state)):\n",
        "            f_out.write(\"Goal state reached\\n\\n\")\n",
        "            return current_state\n",
        "        prev_heu = heuristic2(current_state)\n",
        "        neighbors = movegen(current_state)\n",
        "        for i in neighbors:\n",
        "            h = heuristic2(i)\n",
        "            heap.append([i,h])\n",
        "\n",
        "        current_heap = copy.deepcopy(max(heap,key=itemgetter(1)))\n",
        "        if(current_heap[1] <= prev_heu):\n",
        "            f_out.write(\"Goal state can't be reached\\n\\n\")\n",
        "            return current_state\n",
        "\n",
        "        current_state = current_heap[0]\n",
        "        heap = []"
      ]
    },
    {
      "cell_type": "code",
      "execution_count": null,
      "metadata": {
        "id": "NodH4XGWiwHf"
      },
      "outputs": [],
      "source": [
        "def hillClimbing3():\n",
        "    global closed, open_list, heap, start_state, goal_state\n",
        "    current_state = copy.deepcopy(start_state)\n",
        "    open_list.append(copy.deepcopy(start_state))\n",
        "    while(True):\n",
        "        closed.append(copy.deepcopy(current_state))\n",
        "        if(goaltest(current_state)):\n",
        "            f_out.write(\"Goal state reached\\n\\n\")\n",
        "            return current_state\n",
        "        prev_heu = heuristic3(current_state)\n",
        "        neighbors = movegen(current_state)\n",
        "        for i in neighbors:\n",
        "            h = heuristic3(i)\n",
        "            heap.append([i,h])\n",
        "\n",
        "        current_heap = copy.deepcopy(min(heap,key=itemgetter(1)))\n",
        "        if(current_heap[1] >= prev_heu):\n",
        "            f_out.write(\"Goal state can't be reached\\n\\n\")\n",
        "            return current_state\n",
        "\n",
        "        current_state = current_heap[0]\n",
        "        heap = []\n"
      ]
    },
    {
      "cell_type": "code",
      "execution_count": null,
      "metadata": {
        "id": "EqTgR6J1yKaf"
      },
      "outputs": [],
      "source": [
        "import copy\n",
        "from operator import itemgetter"
      ]
    },
    {
      "cell_type": "code",
      "execution_count": null,
      "metadata": {
        "id": "6Dc33KcPyNbg"
      },
      "outputs": [],
      "source": [
        "# Define your movegen, goaltest, heuristic1, heuristic2, and heuristic3 functions here.\n",
        "def movegen(curr_state):\n",
        "    state = copy.deepcopy(curr_state)\n",
        "    neighbors = []\n",
        "    for i in range(len(state)):\n",
        "        temp = copy.deepcopy(state)\n",
        "        if len(temp[i]) > 0:\n",
        "            elem = temp[i].pop()\n",
        "            for j in range(len(temp)):\n",
        "                temp1 = copy.deepcopy(temp)\n",
        "                if j != i:\n",
        "                    temp1[j] = temp1[j] + [elem]\n",
        "                    neighbors.append(temp1)\n",
        "    return neighbors"
      ]
    },
    {
      "cell_type": "code",
      "execution_count": null,
      "metadata": {
        "id": "9ENP6ge7yPTh"
      },
      "outputs": [],
      "source": [
        "def goaltest(cur_state, goal_state):\n",
        "    for i in range(3):\n",
        "        if len(goal_state[i]) != len(cur_state[i]):\n",
        "            return False\n",
        "        for j in range(len(goal_state[i])):\n",
        "            if goal_state[i][j] != cur_state[i][j]:\n",
        "                return False\n",
        "    return True"
      ]
    },
    {
      "cell_type": "code",
      "execution_count": null,
      "metadata": {
        "id": "qe7bvIjAyRep"
      },
      "outputs": [],
      "source": [
        "def heuristic1(curr_state):\n",
        "    h_val = 0\n",
        "    cur = copy.deepcopy(curr_state)\n",
        "    for i in range(3):\n",
        "        for j in range(len(cur[i])):\n",
        "            if j < len(goal_state[i]) and goal_state[i][j] == cur[i][j]:\n",
        "                h_val += 1\n",
        "    return h_val"
      ]
    },
    {
      "cell_type": "code",
      "execution_count": null,
      "metadata": {
        "id": "jEn_qp9tyTN5"
      },
      "outputs": [],
      "source": [
        "def heuristic2(curr_state):\n",
        "    h_val = 0\n",
        "    cur = copy.deepcopy(curr_state)\n",
        "    for i in range(3):\n",
        "        for j in range(len(cur[i])):\n",
        "            if j < len(goal_state[i]) and goal_state[i][j] == cur[i][j]:\n",
        "                h_val += 1\n",
        "    return h_val\n"
      ]
    },
    {
      "cell_type": "code",
      "execution_count": null,
      "metadata": {
        "id": "3qid3ZnDyVTS"
      },
      "outputs": [],
      "source": [
        "def heuristic3(curr_state):\n",
        "    h_val = 0\n",
        "    cur = copy.deepcopy(curr_state)\n",
        "    d_cur = dict((j, (x, y)) for x, i in enumerate(cur) for y, j in enumerate(i))\n",
        "    for i in range(3):\n",
        "        for j in range(len(cur[i])):\n",
        "            curx, cury = d_cur[cur[i][j]]\n",
        "            goalx, goaly = d_goal[cur[i][j]]\n",
        "            h_val += (abs(curx - goalx) + abs(cury - goaly))\n",
        "    return h_val"
      ]
    },
    {
      "cell_type": "code",
      "execution_count": null,
      "metadata": {
        "id": "R340g9lHyXdh"
      },
      "outputs": [],
      "source": [
        "# Define your start_state and goal_state here\n",
        "start_state = [[\"d\", \"c\", \"b\", \"a\"], [\"f\", \"e\"], []]\n",
        "goal_state = [[], [], [\"a\", \"b\", \"c\", \"d\", \"e\", \"f\"]]"
      ]
    },
    {
      "cell_type": "code",
      "execution_count": null,
      "metadata": {
        "id": "sOoqWtEyyZqB"
      },
      "outputs": [],
      "source": [
        "# Implement the Hill Climbing algorithm\n",
        "def hillClimbing(heuristic_func, start_state, goal_state):\n",
        "    current_state = copy.deepcopy(start_state)\n",
        "    while True:\n",
        "        if goaltest(current_state, goal_state):\n",
        "            print(\"Goal state reached\")\n",
        "            return current_state\n",
        "        neighbors = movegen(current_state)\n",
        "        heap = []\n",
        "        for i in neighbors:\n",
        "            h = heuristic_func(i)\n",
        "            heap.append([i, h])\n",
        "        current_heap = max(heap, key=itemgetter(1))\n",
        "        current_state = current_heap[0]"
      ]
    },
    {
      "cell_type": "code",
      "execution_count": null,
      "metadata": {
        "colab": {
          "background_save": true,
          "base_uri": "https://localhost:8080/"
        },
        "id": "roT4-_SUycLC",
        "outputId": "ffa246d2-b334-4a6c-a895-43654bf6904d"
      },
      "outputs": [
        {
          "name": "stdout",
          "output_type": "stream",
          "text": [
            "Result of Hill Climbing 1:\n",
            "Goal state reached\n",
            "\n",
            "Result of Hill Climbing 2:\n",
            "Goal state reached\n",
            "\n",
            "Result of Hill Climbing 3:\n"
          ]
        }
      ],
      "source": [
        "# Example usage\n",
        "print(\"Result of Hill Climbing 1:\")\n",
        "result_hill_climbing1 = hillClimbing(heuristic1, start_state, goal_state)\n",
        "\n",
        "print(\"\\nResult of Hill Climbing 2:\")\n",
        "result_hill_climbing2 = hillClimbing(heuristic2, start_state, goal_state)\n",
        "\n",
        "print(\"\\nResult of Hill Climbing 3:\")\n",
        "result_hill_climbing3 = hillClimbing(heuristic3, start_state, goal_state)"
      ]
    }
  ],
  "metadata": {
    "colab": {
      "provenance": []
    },
    "kernelspec": {
      "display_name": "Python 3",
      "name": "python3"
    },
    "language_info": {
      "name": "python"
    }
  },
  "nbformat": 4,
  "nbformat_minor": 0
}